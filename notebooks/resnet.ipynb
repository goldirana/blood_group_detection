{
 "cells": [
  {
   "cell_type": "code",
   "execution_count": null,
   "metadata": {},
   "outputs": [],
   "source": [
    "from torch import nn\n",
    "from torch import optim\n",
    "from torch.utils.data import Subset"
   ]
  },
  {
   "cell_type": "code",
   "execution_count": null,
   "metadata": {},
   "outputs": [],
   "source": [
    "from dataclasses import dataclass\n",
    "from src.utils.common import *\n",
    "from src.constants import *\n",
    "\n",
    "\n",
    "@dataclass\n",
    "class ResNetModelConfig:\n",
    "    block_1_conv: dict\n",
    "    block_1_max: tuple\n",
    "    batch_norm: int\n",
    "    block_2: dict\n",
    "    \n",
    "    \n",
    "    \n",
    "    \n",
    "class ConfigurationManager:\n",
    "    def __init__(self):\n",
    "        self.config = read_yaml(CONFIG_FILE_PATH)\n",
    "        self.params = read_yaml(PARAMS_FILE_PATH)\n",
    "        # Architecture params\n",
    "        self.vanilla=read_yaml(VANILLA_FILE_PATH) \n",
    "            \n",
    "    def get_resnet_architecture_params(self):\n",
    "        params = ResNetModelConfig(\n",
    "            block_1= self.resnet.block1.conv2d\n",
    "            \n",
    "        )\n",
    "        \n",
    "class ResNet:\n",
    "    def __init__(self, config):\n",
    "        self.config=config\n",
    "        \n",
    "        # Block 1\n",
    "        self.block1 = nn.Sequential(nn.Conv2d())\n",
    "        \n",
    "    def "
   ]
  }
 ],
 "metadata": {
  "kernelspec": {
   "display_name": "blood_group",
   "language": "python",
   "name": "python3"
  },
  "language_info": {
   "name": "python",
   "version": "3.8.18"
  }
 },
 "nbformat": 4,
 "nbformat_minor": 2
}
