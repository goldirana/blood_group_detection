{
 "cells": [
  {
   "cell_type": "code",
   "execution_count": 1,
   "metadata": {},
   "outputs": [
    {
     "name": "stdout",
     "output_type": "stream",
     "text": [
      "/Users/goldyrana/mess/deep_learning/projects/blood_group_detection/notebooks\n"
     ]
    }
   ],
   "source": [
    "import matplotlib.pyplot as plt\n",
    "from src import logger\n",
    "from src.utils.common import read_yaml, log_error, create_directory\n",
    "from dataclasses import dataclass\n",
    "from src.constants import CONFIG_FILE_PATH, PARAMS_FILE_PATH\n",
    "import cv2\n",
    "import numpy as np\n",
    "import os\n",
    "from typing import List, Union, Optional\n",
    "import sys\n",
    "from tqdm import tqdm\n",
    "from multiprocessing import Pool, cpu_count\n",
    "print(os.getcwd())\n"
   ]
  },
  {
   "cell_type": "code",
   "execution_count": 2,
   "metadata": {},
   "outputs": [],
   "source": [
    "os.chdir(\"../\")"
   ]
  },
  {
   "cell_type": "code",
   "execution_count": 21,
   "metadata": {},
   "outputs": [],
   "source": [
    "@dataclass\n",
    "class ImagePreprocessingConfig:\n",
    "    raw_path: str\n",
    "    interim_path: str\n",
    "\n",
    "class ConfigurationManager:\n",
    "    def __init__(self):\n",
    "        self.config=read_yaml(CONFIG_FILE_PATH)\n",
    "        self.params=read_yaml(PARAMS_FILE_PATH)\n",
    "        print(self.config)\n",
    "    def get_image_preprocessing_config(self):\n",
    "        params=ImagePreprocessingConfig(\n",
    "            raw_path=self.config.data.extract_to,\n",
    "            interim_path=self.config.data.interim_path\n",
    "        )\n",
    "        return params\n",
    "\n",
    "\n",
    "class ImagePreprocessing:\n",
    "    def __init__(self, config):\n",
    "        self.config=config\n",
    "\n",
    "    @log_error(faliure_message=\"Image Preprocessing\")\n",
    "    def process_image(self, image):\n",
    "        # corrected_image = cv2.cvtColor(image, cv2.COLOR_BGR2GRAY)\n",
    "        # corrected_image = corrected_image.astype(np.uint8)\n",
    "\n",
    "        clahe = cv2.createCLAHE(clipLimit=70.0, tileGridSize=(8, 8))\n",
    "        enhanced_image = clahe.apply(image)\n",
    "        \n",
    "        # Apply erosion to thin and darken lines\n",
    "        kernel = np.ones((1, 1), np.uint8)\n",
    "        thinned_image = cv2.erode(enhanced_image, kernel, iterations=200)\n",
    "        clahe = cv2.createCLAHE(clipLimit=2.0, tileGridSize=(5,5))\n",
    "        enhanced_contrast = clahe.apply(thinned_image)\n",
    "\n",
    "        smoothed = cv2.GaussianBlur(enhanced_contrast, (3, 3), 23)\n",
    "        # Step 3: Sharpen the image\n",
    "        sharpened = cv2.addWeighted(enhanced_contrast,2, smoothed, -0.5, 0)\n",
    "\n",
    "        denoised_image = cv2.fastNlMeansDenoising(sharpened, None, h=20, \n",
    "                                                templateWindowSize=5, \n",
    "                                                searchWindowSize=25)\n",
    "        kernel = np.ones((1, 1), np.uint8)\n",
    "        erode_image = cv2.erode(denoised_image, kernel, iterations=200)\n",
    "        return erode_image\n",
    "    \n",
    "    @log_error(faliure_message=\"Reading Image\")\n",
    "    def read_image(self, path):\n",
    "        image = cv2.imread(path, cv2.IMREAD_COLOR)\n",
    "        image = cv2.cvtColor(image, cv2.COLOR_BGR2GRAY).astype(np.uint8)\n",
    "        return image\n",
    "    \n",
    "    @log_error(sucess_message=None, faliure_message=\"Get folder path\")\n",
    "    def get_folder_path(self, main_folder: str) -> List[str]:\n",
    "        \"\"\"\n",
    "        To get sub folder names of given folder \n",
    "        Return:\n",
    "        list: \n",
    "        \"\"\"\n",
    "        folder_names = list(os.listdir(main_folder)) # returns the folder name\n",
    "        print(folder_names)\n",
    "        folder_with_path = [] # to save foldername with base path\n",
    "        \n",
    "        for sub_folder in folder_names:\n",
    "            if os.path.isdir(os.path.join(main_folder, sub_folder)) != True:\n",
    "                logger.info(f\"{sub_folder} not a directory\\nRemoving {sub_folder}\") # to remove reduant files \n",
    "            else:\n",
    "                folder_with_path.append(os.path.join(main_folder, # base path\n",
    "                                                     sub_folder)) # image_folder_name\n",
    "\n",
    "        \n",
    "        return folder_with_path\n",
    "\n",
    "    @log_error(faliure_message=\"Failed in saving image\")\n",
    "    def save_image(self, image, save_path) -> None:\n",
    "        create_directory(save_path, is_extension_present=True)\n",
    "        cv2.imwrite(save_path, image)\n",
    "        \n",
    "\n",
    "    def apply_image_operations(self, image_path) -> None:\n",
    "        try:\n",
    "            # Read, process, and save the image\n",
    "            image = self.read_image(image_path)\n",
    "            image = self.process_image(image)\n",
    "            print(type(image))\n",
    "            self.save_image(image, image_path.replace(\"raw\", \"interim\"))\n",
    "            \n",
    "        except Exception as e:\n",
    "            return f\"Error processing {image_path}: {e}\"\n",
    "\n",
    "\n",
    "        "
   ]
  },
  {
   "cell_type": "code",
   "execution_count": 22,
   "metadata": {},
   "outputs": [
    {
     "name": "stderr",
     "output_type": "stream",
     "text": [
      "2025-01-14 15:32:38,749 - root - INFO - Yaml read successfully from config/config.yaml\n",
      "2025-01-14 15:32:38,750 - root - INFO - Yaml read successfully from params.yaml\n",
      "2025-01-14 15:32:38,751 - root - ERROR - Exception occured while reading yaml file from                         location: params.yaml\n",
      " First argument must be mapping or iterable\n",
      "2025-01-14 15:32:38,752 - root - INFO - .gitkeep not a directory\n",
      "Removing .gitkeep\n",
      "2025-01-14 15:32:38,752 - root - INFO - .DS_Store not a directory\n",
      "Removing .DS_Store\n"
     ]
    },
    {
     "name": "stdout",
     "output_type": "stream",
     "text": [
      "{'data': {'google_drive_url': 'https://drive.google.com/file/d/10ApjOcTo6tjO34q5et-ij-tbrSm0Waqc/view?usp=drive_link', 'download_path': 'data/external/data.zip', 'extract_to': 'data/raw', 'interim_path': 'data/interim', 'processed_path': 'data/processed'}}\n",
      "['.gitkeep', 'AB+', 'AB-', 'A+', 'B-', 'B+', 'A-', 'O-', 'O+']\n",
      "['.DS_Store', 'AB+', 'AB-', 'A+', 'B-', 'B+', 'A-', 'O-', 'O+']\n"
     ]
    }
   ],
   "source": [
    "if __name__ == \"__main__\":\n",
    "    config_manager = ConfigurationManager()\n",
    "    config_params = config_manager.get_image_preprocessing_config()\n",
    "\n",
    "    ob = ImagePreprocessing(config_params)\n",
    "    folder_path = ob.get_folder_path(\"data/raw\") # raw folder \n",
    "\n",
    "    interim_path = ob.get_folder_path(\"data/interim\")\n",
    "    "
   ]
  },
  {
   "cell_type": "code",
   "execution_count": 23,
   "metadata": {},
   "outputs": [],
   "source": [
    "def main(folder_path):\n",
    "\n",
    "    all_image_path = []\n",
    "    for folder in folder_path:\n",
    "        image_names = os.listdir(folder)\n",
    "        for image_name in image_names:\n",
    "            image_path = os.path.join(folder, image_name)\n",
    "            all_image_path.append(image_path)\n",
    "    # return all_image_path\n",
    "\n",
    "    # ob.apply_image_operations(all_image_path[0] )\n",
    "\n",
    "    with Pool(processes=cpu_count()) as pool:\n",
    "        results = list(tqdm(pool.imap(ob.apply_image_operations, all_image_path), total=len(all_image_path)))\n",
    "\n",
    "    # for result in results:\n",
    "    #     print(result)\n",
    "    \n",
    "\n",
    "         \n"
   ]
  },
  {
   "cell_type": "code",
   "execution_count": 24,
   "metadata": {},
   "outputs": [
    {
     "name": "stdout",
     "output_type": "stream",
     "text": [
      "<class 'numpy.ndarray'>\n"
     ]
    }
   ],
   "source": [
    "if __name__ == \"__main__\":\n",
    "    x = main(folder_path)"
   ]
  },
  {
   "cell_type": "code",
   "execution_count": 20,
   "metadata": {},
   "outputs": [
    {
     "data": {
      "text/plain": [
       "'data/interim/AB+/cluster_4_4894.BMP'"
      ]
     },
     "execution_count": 20,
     "metadata": {},
     "output_type": "execute_result"
    }
   ],
   "source": [
    "x[0].replace(\"raw\", \"interim\")"
   ]
  },
  {
   "cell_type": "code",
   "execution_count": null,
   "metadata": {},
   "outputs": [],
   "source": []
  }
 ],
 "metadata": {
  "kernelspec": {
   "display_name": "blood_group",
   "language": "python",
   "name": "python3"
  },
  "language_info": {
   "codemirror_mode": {
    "name": "ipython",
    "version": 3
   },
   "file_extension": ".py",
   "mimetype": "text/x-python",
   "name": "python",
   "nbconvert_exporter": "python",
   "pygments_lexer": "ipython3",
   "version": "3.8.18"
  }
 },
 "nbformat": 4,
 "nbformat_minor": 2
}
