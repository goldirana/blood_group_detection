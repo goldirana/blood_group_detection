{
 "cells": [
  {
   "cell_type": "code",
   "execution_count": 1,
   "metadata": {},
   "outputs": [],
   "source": [
    "import matplotlib.pyplot as plt\n",
    "from src import logger\n",
    "from src.utils.common import read_yaml, log_error\n",
    "from dataclasses import dataclass\n",
    "from src.constants import CONFIG_FILE_PATH, PARAMS_FILE_PATH\n",
    "import cv2\n",
    "import numpy as np\n",
    "import os\n"
   ]
  },
  {
   "cell_type": "code",
   "execution_count": 2,
   "metadata": {},
   "outputs": [],
   "source": [
    "os.chdir(\"../\")"
   ]
  },
  {
   "cell_type": "code",
   "execution_count": 24,
   "metadata": {},
   "outputs": [],
   "source": [
    "@dataclass\n",
    "class ImagePreprocessingConfig:\n",
    "    raw_path: str\n",
    "    interim_path: str\n",
    "\n",
    "class ConfigurationManager:\n",
    "    def __init__(self):\n",
    "        self.config=read_yaml(CONFIG_FILE_PATH)\n",
    "        self.params=read_yaml(PARAMS_FILE_PATH)\n",
    "        print(self.config)\n",
    "    def get_image_preprocessing_config(self):\n",
    "        params=ImagePreprocessingConfig(\n",
    "            raw_path=self.config.data.extract_to,\n",
    "            interim_path=self.config.data.interim_path\n",
    "        )\n",
    "        return params\n",
    "\n",
    "\n",
    "class ImagePreprocessing:\n",
    "    def __init__(self, config):\n",
    "        self.config=config\n",
    "\n",
    "    def process_image(self, image):\n",
    "        corrected_image = cv2.cvtColor(image, cv2.COLOR_BGR2GRAY)\n",
    "        corrected_image = corrected_image.astype(np.uint8)\n",
    "\n",
    "        clahe = cv2.createCLAHE(clipLimit=70.0, tileGridSize=(8, 8))\n",
    "        enhanced_image = clahe.apply(corrected_image)\n",
    "        \n",
    "        # Apply erosion to thin and darken lines\n",
    "        kernel = np.ones((1, 1), np.uint8)\n",
    "        thinned_image = cv2.erode(enhanced_image, kernel, iterations=200)\n",
    "        clahe = cv2.createCLAHE(clipLimit=2.0, tileGridSize=(5,5))\n",
    "        enhanced_contrast = clahe.apply(thinned_image)\n",
    "\n",
    "        smoothed = cv2.GaussianBlur(enhanced_contrast, (3, 3), 23)\n",
    "        # Step 3: Sharpen the image\n",
    "        sharpened = cv2.addWeighted(enhanced_contrast,2, smoothed, -0.5, 0)\n",
    "\n",
    "        denoised_image = cv2.fastNlMeansDenoising(sharpened, None, h=20, \n",
    "                                                templateWindowSize=5, \n",
    "                                                searchWindowSize=25)\n",
    "        kernel = np.ones((1, 1), np.uint8)\n",
    "        erode_image = cv2.erode(denoised_image, kernel, iterations=200)\n",
    "        return erode_image\n",
    "    \n",
    "\n",
    "    def read_image(self, path):\n",
    "        image = cv2.imread(path, cv2.IMREAD_GRAYSCALE)\n",
    "        image = cv2.cvtColor(image).astype(np.uint8)\n",
    "        return image\n",
    "    \n",
    "    @log_error(sucess_message=None, faliure_message=\"Location does not exists\")\n",
    "    def get_images_path(self):\n",
    "        folder_dir = list(os.listdir(self.config.interim_path))\n",
    "        for folder in folder_dir:\n",
    "            if os.path.isdir(os.path.join(self.config.interim_path, folder)) != True:\n",
    "                folder_dir.remove(folder)\n",
    "        \n",
    "        return folder_dir\n",
    "\n",
    "\n"
   ]
  },
  {
   "cell_type": "code",
   "execution_count": 25,
   "metadata": {},
   "outputs": [
    {
     "name": "stderr",
     "output_type": "stream",
     "text": [
      "2025-01-13 18:47:22,845 - common - INFO - Yaml read successfully from config/config.yaml\n",
      "2025-01-13 18:47:22,847 - common - INFO - Yaml read successfully from params.yaml\n",
      "2025-01-13 18:47:22,848 - common - ERROR - Exception occured while reading yaml file from                         location: params.yaml\n",
      " First argument must be mapping or iterable\n"
     ]
    },
    {
     "name": "stdout",
     "output_type": "stream",
     "text": [
      "{'data': {'google_drive_url': 'https://drive.google.com/file/d/10ApjOcTo6tjO34q5et-ij-tbrSm0Waqc/view?usp=drive_link', 'download_path': 'data/external/data.zip', 'extract_to': 'data/raw', 'interim_path': 'data/interim', 'processed_path': 'data/processed'}}\n"
     ]
    }
   ],
   "source": [
    "if __name__ == \"__main__\":\n",
    "    config_manager = ConfigurationManager()\n",
    "    config_params = config_manager.get_image_preprocessing_config()\n",
    "\n",
    "    ob = ImagePreprocessing(config_params)\n",
    "    images_path = ob.get_images_path()"
   ]
  },
  {
   "cell_type": "code",
   "execution_count": 27,
   "metadata": {},
   "outputs": [
    {
     "data": {
      "text/plain": [
       "['AB+', 'AB-', 'A+', 'B-', 'B+', 'A-', 'O-', 'O+']"
      ]
     },
     "execution_count": 27,
     "metadata": {},
     "output_type": "execute_result"
    }
   ],
   "source": [
    "images_path"
   ]
  },
  {
   "cell_type": "code",
   "execution_count": null,
   "metadata": {},
   "outputs": [],
   "source": []
  }
 ],
 "metadata": {
  "kernelspec": {
   "display_name": "blood_group",
   "language": "python",
   "name": "python3"
  },
  "language_info": {
   "codemirror_mode": {
    "name": "ipython",
    "version": 3
   },
   "file_extension": ".py",
   "mimetype": "text/x-python",
   "name": "python",
   "nbconvert_exporter": "python",
   "pygments_lexer": "ipython3",
   "version": "3.8.18"
  }
 },
 "nbformat": 4,
 "nbformat_minor": 2
}
