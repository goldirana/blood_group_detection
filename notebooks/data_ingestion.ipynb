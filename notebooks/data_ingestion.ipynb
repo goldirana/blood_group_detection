{
 "cells": [
  {
   "cell_type": "code",
   "execution_count": 9,
   "metadata": {},
   "outputs": [],
   "source": [
    "import matplotlib.pyplot as plt\n",
    "from src import logger\n",
    "from src.utils.common import read_yaml\n",
    "from dataclasses import dataclass\n",
    "from src.constants import CONFIG_FILE_PATH, PARAMS_FILE_PATH\n",
    "import cv2\n",
    "import zipfile\n",
    "import shutil\n",
    "import gdown\n"
   ]
  },
  {
   "cell_type": "code",
   "execution_count": 5,
   "metadata": {},
   "outputs": [],
   "source": [
    "import os\n",
    "os.chdir(\"../\")"
   ]
  },
  {
   "cell_type": "code",
   "execution_count": 10,
   "metadata": {},
   "outputs": [
    {
     "name": "stderr",
     "output_type": "stream",
     "text": [
      "2025-01-13 17:35:19,706 - common - INFO - Yaml read successfully from config/config.yaml\n",
      "2025-01-13 17:35:19,707 - common - INFO - Yaml read successfully from params.yaml\n",
      "2025-01-13 17:35:19,708 - common - ERROR - Exception occured while reading yaml file from                         location: params.yaml\n",
      " First argument must be mapping or iterable\n",
      "2025-01-13 17:35:19,760 - connectionpool - DEBUG - Starting new HTTPS connection (1): drive.google.com:443\n",
      "2025-01-13 17:35:21,852 - connectionpool - DEBUG - https://drive.google.com:443 \"GET /uc?id=10ApjOcTo6tjO34q5et-ij-tbrSm0Waqc HTTP/11\" 200 None\n",
      "2025-01-13 17:35:22,212 - connectionpool - DEBUG - https://drive.google.com:443 \"GET /uc?id=10ApjOcTo6tjO34q5et-ij-tbrSm0Waqc&confirm=t&uuid=b92d345a-2ef1-4381-919b-3bebdaa383d8 HTTP/11\" 303 0\n",
      "2025-01-13 17:35:25,439 - connectionpool - DEBUG - Starting new HTTPS connection (1): doc-14-bg-docs.googleusercontent.com:443\n",
      "2025-01-13 17:35:27,774 - connectionpool - DEBUG - https://doc-14-bg-docs.googleusercontent.com:443 \"GET /docs/securesc/ha0ro937gcuc7l7deffksulhg5h7mbp1/elph8gns5r4etgheldkncd014jf50l1n/1736769900000/05264000485467872460/*/10ApjOcTo6tjO34q5et-ij-tbrSm0Waqc?uuid=b92d345a-2ef1-4381-919b-3bebdaa383d8 HTTP/11\" 200 60963680\n",
      "Downloading...\n",
      "From (original): https://drive.google.com/uc?id=10ApjOcTo6tjO34q5et-ij-tbrSm0Waqc\n",
      "From (redirected): https://drive.google.com/uc?id=10ApjOcTo6tjO34q5et-ij-tbrSm0Waqc&confirm=t&uuid=b92d345a-2ef1-4381-919b-3bebdaa383d8\n",
      "To: /Users/goldyrana/mess/deep_learning/projects/blood_group_detection/data/raw/data.zip\n",
      "100%|██████████| 61.0M/61.0M [00:02<00:00, 27.2MB/s]\n"
     ]
    },
    {
     "name": "stdout",
     "output_type": "stream",
     "text": [
      "Downloaded file saved to: data/raw/data.zip\n",
      "Extracted contents to: data/interim\n"
     ]
    }
   ],
   "source": [
    "@dataclass\n",
    "class DataIngestionConfig:\n",
    "    google_drive_url: str\n",
    "    output_path: str\n",
    "    extract_to: str\n",
    "\n",
    "class ConfigurationManager:\n",
    "    def __init__(self):\n",
    "        self.config = read_yaml(CONFIG_FILE_PATH)\n",
    "        self.params = read_yaml(PARAMS_FILE_PATH)\n",
    "\n",
    "    def get_data_ingestion_config(self) -> DataIngestionConfig:\n",
    "        params = DataIngestionConfig(\n",
    "            google_drive_url=self.config.data.google_drive_url,\n",
    "            output_path=self.config.data.output_path,\n",
    "            extract_to=self.config.data.extract_to\n",
    "            )\n",
    "        return params \n",
    "    \n",
    "class DataIngestion:\n",
    "    def __init__(self, config):\n",
    "        self.config=config\n",
    "\n",
    "    \n",
    "    def download_and_extract_zip(self):\n",
    "        \"\"\"\n",
    "        Downloads a ZIP file from Google Drive, extracts it, and removes any extra folder.\n",
    "        \n",
    "        Args:\n",
    "            drive_url (str): Direct download link to the file on Google Drive.\n",
    "            output_path (str): Local path to save the downloaded ZIP file.\n",
    "            extract_to (str): Directory to extract the contents.\n",
    "        \"\"\"\n",
    "        try:\n",
    "            # Step 1: Download the ZIP file\n",
    "            gdown.download(self.config.google_drive_url, \n",
    "                        self.config.output_path, quiet=False, fuzzy=True)\n",
    "            print(f\"Downloaded file saved to: {self.config.output_path}\")\n",
    "            \n",
    "            # Step 2: Check if the file is a ZIP file\n",
    "            if not zipfile.is_zipfile(self.config.output_path):\n",
    "                raise zipfile.BadZipFile(\"Downloaded file is not a valid ZIP file.\")\n",
    "            \n",
    "            # Step 3: Extract the ZIP file\n",
    "            with zipfile.ZipFile(self.config.output_path, 'r') as zip_ref:\n",
    "                zip_ref.extractall(self.config.extract_to)\n",
    "            print(f\"Extracted contents to: {self.config.extract_to}\")\n",
    "            \n",
    "            # Step 4: Move files if an extra folder is created\n",
    "            for root, dirs, files in os.walk(self.config.extract_to):\n",
    "                # If there's an extra folder, move its contents up and remove the folder\n",
    "                for folder in dirs:\n",
    "                    folder_path = os.path.join(root, folder)\n",
    "                    for file in os.listdir(folder_path):\n",
    "                        shutil.move(os.path.join(folder_path, file), self.config.extract_to)\n",
    "                    os.rmdir(folder_path)  # Remove the now-empty folder\n",
    "                break  # Only process the top-level directory\n",
    "\n",
    "        except zipfile.BadZipFile as e:\n",
    "            print(e)\n",
    "        except Exception as e:\n",
    "            print(f\"An error occurred: {e}\")\n",
    "\n",
    "  \n",
    "\n",
    "\n",
    "\n",
    "if __name__ == \"__main__\":\n",
    "    config_manager = ConfigurationManager()\n",
    "    config_params = config_manager.get_data_ingestion_config()\n",
    "    ob = DataIngestion(config_params)\n",
    "    ob.download_and_extract_zip()\n",
    "\n",
    "\n"
   ]
  },
  {
   "cell_type": "code",
   "execution_count": 4,
   "metadata": {},
   "outputs": [],
   "source": [
    "config_manager.config"
   ]
  },
  {
   "cell_type": "code",
   "execution_count": null,
   "metadata": {},
   "outputs": [],
   "source": []
  }
 ],
 "metadata": {
  "kernelspec": {
   "display_name": "blood_group",
   "language": "python",
   "name": "python3"
  },
  "language_info": {
   "codemirror_mode": {
    "name": "ipython",
    "version": 3
   },
   "file_extension": ".py",
   "mimetype": "text/x-python",
   "name": "python",
   "nbconvert_exporter": "python",
   "pygments_lexer": "ipython3",
   "version": "3.8.18"
  }
 },
 "nbformat": 4,
 "nbformat_minor": 2
}
