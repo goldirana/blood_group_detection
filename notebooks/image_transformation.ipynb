{
 "cells": [
  {
   "cell_type": "code",
   "execution_count": 1,
   "metadata": {},
   "outputs": [
    {
     "name": "stdout",
     "output_type": "stream",
     "text": [
      "/Users/goldyrana/mess/deep_learning/projects/blood_group_detection\n"
     ]
    }
   ],
   "source": [
    "from torch import optim\n",
    "import torch as th\n",
    "from torch import nn\n",
    "from dataclasses import dataclass\n",
    "import os\n",
    "from src.constants import *\n",
    "from src.utils.common import *\n",
    "os.chdir(\"../\")\n",
    "print(os.getcwd())"
   ]
  },
  {
   "cell_type": "code",
   "execution_count": 2,
   "metadata": {},
   "outputs": [],
   "source": [
    "from torch.utils.data import DataLoader\n",
    "from torchvision.datasets import ImageFolder\n",
    "from torchvision import transforms"
   ]
  },
  {
   "cell_type": "code",
   "execution_count": 5,
   "metadata": {},
   "outputs": [],
   "source": [
    "@dataclass\n",
    "class ImageTransformationConfig:\n",
    "    # Image params\n",
    "    image_shape: list\n",
    "    mean: int\n",
    "    std: int\n",
    "    # Directory params\n",
    "    train_path: str\n",
    "    batch_size: int\n",
    "    shuffle: bool\n",
    "    num_workers:int\n",
    "\n",
    "    \n",
    "class ConfigurationManager:\n",
    "    def __init__(self):\n",
    "        self.config=read_yaml(CONFIG_FILE_PATH)\n",
    "        self.params=read_yaml(PARAMS_FILE_PATH)\n",
    "    \n",
    "    \n",
    "    def get_image_transformation_params(self)->ImageTransformationConfig:\n",
    "        params=ImageTransformationConfig(\n",
    "            image_shape=[self.params.image_transformation.height,\n",
    "                        self.params.image_transformation.width],\n",
    "\n",
    "            mean=self.params.image_transformation.mean,\n",
    "            std=self.params.image_transformation.std,\n",
    "            # Directory params\n",
    "\n",
    "            train_path=self.config.data.train_path,\n",
    "            batch_size=self.params.image_transformation.batch_size,\n",
    "            shuffle=self.params.image_transformation.shuffle,\n",
    "            num_workers=self.params.image_transformation.workers\n",
    "        )\n",
    "        return params"
   ]
  },
  {
   "cell_type": "code",
   "execution_count": 8,
   "metadata": {},
   "outputs": [
    {
     "name": "stderr",
     "output_type": "stream",
     "text": [
      "2025-01-14 22:18:26,426 - root - INFO - Yaml read successfully from config/config.yaml\n",
      "2025-01-14 22:18:26,429 - root - INFO - Yaml read successfully from params.yaml\n"
     ]
    },
    {
     "name": "stdout",
     "output_type": "stream",
     "text": [
      "{'training': {'epochs': 5, 'batch_size': 32}, 'mlflow_params': {'uri': 'https://dagshub.com/RajeshGoldy/blood_group_detection.mlflow'}, 'image_params': {'height': 100, 'width': 96, 'channels': 1, 'no_categories': 8}, 'image_transformation': {'height': 100, 'width': 96, 'mean': 0, 'std': 1, 'batch_size': 32, 'shuffle': True, 'workers': 4}}\n"
     ]
    }
   ],
   "source": [
    "config_manager = ConfigurationManager()\n",
    "config_params = config_manager.get_image_transformation_params()\n",
    "\n",
    "ob = ImageTransformation(config_params)"
   ]
  },
  {
   "cell_type": "code",
   "execution_count": 7,
   "metadata": {},
   "outputs": [],
   "source": [
    "\n",
    "class ImageTransformation:\n",
    "    def __init__(self, config):\n",
    "        self.config=config\n",
    "\n",
    "    def get_image_transformer(self, data=\"train\"):\n",
    "        if data != \"train\":\n",
    "            transform = transforms.Compose(\n",
    "                [transforms.Resize(self.config.image_shape),\n",
    "                transforms.ToTensor(),\n",
    "                transforms.Normalize(mean=self.config.mean, std=self.config.std)]\n",
    "            )\n",
    "            return transform\n",
    "        else: # transformation for test or validation\n",
    "            logger.info(f\"Initializing transformation on {data} data\")\n",
    "            transform = transforms.Compose([\n",
    "                transforms.Resize(self.config.image_shape),\n",
    "                transforms.ToTensor(),\n",
    "                transforms.Normalize(mean=self.config.mean, std=self.config.std)\n",
    "            ])\n",
    "            return transform\n",
    "        \n",
    "    def get_data_loader(self, image_folder_path, transform):\n",
    "        image_dataset = ImageFolder(image_folder_path, transform=transform)\n",
    "\n",
    "        image_loader = DataLoader(image_dataset,\n",
    "                                  batch_size=self.config.batch_size,\n",
    "                                  shuffle=self.config.shuffle,\n",
    "                                  num_workers=self.config.num_workers)\n",
    "        \n",
    "        return image_loader\n",
    "        "
   ]
  },
  {
   "cell_type": "code",
   "execution_count": 9,
   "metadata": {},
   "outputs": [
    {
     "name": "stderr",
     "output_type": "stream",
     "text": [
      "2025-01-14 22:18:55,246 - root - INFO - Yaml read successfully from config/config.yaml\n",
      "2025-01-14 22:18:55,250 - root - INFO - Yaml read successfully from params.yaml\n",
      "2025-01-14 22:18:55,251 - root - INFO - Initializing transformation on train data\n"
     ]
    },
    {
     "name": "stdout",
     "output_type": "stream",
     "text": [
      "{'training': {'epochs': 5, 'batch_size': 32}, 'mlflow_params': {'uri': 'https://dagshub.com/RajeshGoldy/blood_group_detection.mlflow'}, 'image_params': {'height': 100, 'width': 96, 'channels': 1, 'no_categories': 8}, 'image_transformation': {'height': 100, 'width': 96, 'mean': 0, 'std': 1, 'batch_size': 32, 'shuffle': True, 'workers': 4}}\n"
     ]
    }
   ],
   "source": [
    "if __name__ == \"__main__\":\n",
    "    config_manager = ConfigurationManager()\n",
    "    config_params = config_manager.get_image_transformation_params()\n",
    "\n",
    "    ob = ImageTransformation(config_params)\n",
    "    train_transformer = ob.get_image_transformer(data=\"train\")\n",
    "    train_loader = ob.get_data_loader(\"data/processed/train\", train_transformer)"
   ]
  },
  {
   "cell_type": "code",
   "execution_count": null,
   "metadata": {},
   "outputs": [],
   "source": []
  }
 ],
 "metadata": {
  "kernelspec": {
   "display_name": "blood_group",
   "language": "python",
   "name": "python3"
  },
  "language_info": {
   "codemirror_mode": {
    "name": "ipython",
    "version": 3
   },
   "file_extension": ".py",
   "mimetype": "text/x-python",
   "name": "python",
   "nbconvert_exporter": "python",
   "pygments_lexer": "ipython3",
   "version": "3.8.18"
  }
 },
 "nbformat": 4,
 "nbformat_minor": 2
}
